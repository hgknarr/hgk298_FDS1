{
 "cells": [
  {
   "cell_type": "markdown",
   "id": "767ae040-5620-461e-ae2d-b9332d2aa483",
   "metadata": {},
   "source": [
    "1. Function Design for Unit conversions "
   ]
  },
  {
   "cell_type": "code",
   "execution_count": 1,
   "id": "dde04ba9-cf8a-4eea-a9d0-624bd67e2af2",
   "metadata": {
    "tags": []
   },
   "outputs": [],
   "source": [
    "def miles_to_km(x) :\n",
    "    return(x * 1.609344)\n",
    "\n",
    "def km_to_miles(x) :\n",
    "    return (x * 0.621371)\n",
    "\n",
    "def far_to_cel(x) :\n",
    "    return((x - 32) *5/9)\n",
    "\n",
    "def cel_to_far(x) :\n",
    "    return((x * 9/5) + 32)\n",
    "\n",
    "def kg_to_lbs(x) :\n",
    "    return (x * 2.20462) \n",
    "\n",
    "def lbs_to_kg(x) :\n",
    "    return (x * 0.453592)"
   ]
  },
  {
   "cell_type": "code",
   "execution_count": 12,
   "id": "7f33d142-840d-4a24-852a-b008cfe69ad0",
   "metadata": {
    "tags": []
   },
   "outputs": [
    {
     "name": "stdout",
     "output_type": "stream",
     "text": [
      "5 lbs is  2.27 kgs!\n"
     ]
    }
   ],
   "source": [
    "mykg = lbs_to_kg(5) \n",
    "print(f\"5 lbs is {mykg: .2f} kgs!\")"
   ]
  },
  {
   "cell_type": "markdown",
   "id": "37db7aff-1e5c-47de-871a-1dbce98360dc",
   "metadata": {},
   "source": [
    "2. Module Creation"
   ]
  },
  {
   "cell_type": "code",
   "execution_count": 6,
   "id": "7a662598-2034-454e-b208-006068eaf7b9",
   "metadata": {
    "tags": []
   },
   "outputs": [],
   "source": [
    "import unit_conversions as uc"
   ]
  },
  {
   "cell_type": "code",
   "execution_count": 14,
   "id": "6534cbc9-b380-42a6-a7e3-ae44f10b6f4a",
   "metadata": {
    "tags": []
   },
   "outputs": [
    {
     "name": "stdout",
     "output_type": "stream",
     "text": [
      "8 miles is  12.87 km\n",
      "5 km is  3.11 miles\n",
      "75 farenheit is  23.89 celcius\n",
      "50 celsius is  122.00 farenheit\n",
      "10 kg is  22.05 lbs\n",
      "15 lbs is  6.80 kg\n"
     ]
    }
   ],
   "source": [
    "print(f\"8 miles is {uc.miles_to_km(8): .2f} km\")\n",
    "print(f\"5 km is {uc.km_to_miles(5): .2f} miles\")\n",
    "print(f\"75 farenheit is {uc.far_to_cel(75): .2f} celcius\")\n",
    "print(f\"50 celsius is {uc.cel_to_far(50): .2f} farenheit\")\n",
    "print(f\"10 kg is {uc.kg_to_lbs(10): .2f} lbs\")\n",
    "print(f\"15 lbs is {uc.lbs_to_kg(15): .2f} kg\")"
   ]
  },
  {
   "cell_type": "markdown",
   "id": "beee3649-f77c-4709-a26a-165b8e1fa753",
   "metadata": {},
   "source": [
    "3. Namespaces"
   ]
  },
  {
   "cell_type": "code",
   "execution_count": 20,
   "id": "e520cd9e-e7ba-44d5-918b-5fd6d16420d3",
   "metadata": {
    "tags": []
   },
   "outputs": [
    {
     "data": {
      "text/plain": [
       "6"
      ]
     },
     "execution_count": 20,
     "metadata": {},
     "output_type": "execute_result"
    }
   ],
   "source": [
    "mylist = [1, 4, 6, 10, 23, 42]\n",
    "len(mylist)"
   ]
  },
  {
   "cell_type": "code",
   "execution_count": 23,
   "id": "d784cd99-68bb-474b-9450-770a1dce1e4b",
   "metadata": {
    "tags": []
   },
   "outputs": [
    {
     "data": {
      "text/plain": [
       "42"
      ]
     },
     "execution_count": 23,
     "metadata": {},
     "output_type": "execute_result"
    }
   ],
   "source": [
    "mylen.len(5)"
   ]
  },
  {
   "cell_type": "code",
   "execution_count": 24,
   "id": "ae77e51e-4530-436f-9b12-2ec838a65cb4",
   "metadata": {
    "tags": []
   },
   "outputs": [
    {
     "data": {
      "text/plain": [
       "42"
      ]
     },
     "execution_count": 24,
     "metadata": {},
     "output_type": "execute_result"
    }
   ],
   "source": [
    "from mylen import len\n",
    "len(mylist)"
   ]
  }
 ],
 "metadata": {
  "kernelspec": {
   "display_name": "Python 3 (ipykernel)",
   "language": "python",
   "name": "python3"
  },
  "language_info": {
   "codemirror_mode": {
    "name": "ipython",
    "version": 3
   },
   "file_extension": ".py",
   "mimetype": "text/x-python",
   "name": "python",
   "nbconvert_exporter": "python",
   "pygments_lexer": "ipython3",
   "version": "3.11.4"
  }
 },
 "nbformat": 4,
 "nbformat_minor": 5
}
