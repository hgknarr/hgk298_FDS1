{
 "cells": [
  {
   "cell_type": "markdown",
   "id": "df12f7df",
   "metadata": {},
   "source": [
    "Part 1: for loops with lists and range()\n",
    "1. Lists"
   ]
  },
  {
   "cell_type": "code",
   "execution_count": 25,
   "id": "90c01b1c",
   "metadata": {},
   "outputs": [
    {
     "name": "stdout",
     "output_type": "stream",
     "text": [
      "10\n",
      "12\n",
      "14\n",
      "16\n",
      "18\n"
     ]
    }
   ],
   "source": [
    "numbers = [5, 6, 7, 8, 9]\n",
    "for i in numbers : \n",
    "    print(i*2)"
   ]
  },
  {
   "cell_type": "code",
   "execution_count": 30,
   "id": "fbb42a67",
   "metadata": {},
   "outputs": [
    {
     "name": "stdout",
     "output_type": "stream",
     "text": [
      "guava\n",
      "banana\n",
      "raspberry\n",
      "peach\n",
      "\n",
      "peach\n",
      "raspberry\n",
      "banana\n",
      "guava\n"
     ]
    }
   ],
   "source": [
    "strings = [\"guava\", \"banana\", \"raspberry\", \"peach\"]\n",
    "for i in strings : \n",
    "    print(i) \n",
    "    \n",
    "print()\n",
    "\n",
    "for i in range(len(strings) - 1, -1, -1) : \n",
    "    print(strings[i])"
   ]
  },
  {
   "cell_type": "markdown",
   "id": "53cf41be",
   "metadata": {},
   "source": [
    "2. Using the range() function"
   ]
  },
  {
   "cell_type": "code",
   "execution_count": 20,
   "id": "735760c9",
   "metadata": {},
   "outputs": [
    {
     "name": "stdout",
     "output_type": "stream",
     "text": [
      "0\n",
      "1\n",
      "2\n",
      "3\n",
      "4\n",
      "5\n",
      "6\n",
      "7\n",
      "8\n",
      "9\n"
     ]
    }
   ],
   "source": [
    "for i in range(10) : \n",
    "    print(i)"
   ]
  },
  {
   "cell_type": "code",
   "execution_count": 12,
   "id": "596a15ab",
   "metadata": {},
   "outputs": [
    {
     "name": "stdout",
     "output_type": "stream",
     "text": [
      "5\n",
      "6\n",
      "7\n",
      "8\n",
      "9\n",
      "10\n",
      "11\n",
      "12\n",
      "13\n",
      "14\n",
      "15\n"
     ]
    }
   ],
   "source": [
    "for i in range(5,16) : \n",
    "    print(i)"
   ]
  },
  {
   "cell_type": "code",
   "execution_count": 16,
   "id": "4958b5ca",
   "metadata": {},
   "outputs": [
    {
     "name": "stdout",
     "output_type": "stream",
     "text": [
      "2\n",
      "4\n",
      "6\n",
      "8\n",
      "10\n",
      "12\n",
      "14\n",
      "16\n",
      "18\n",
      "20\n"
     ]
    }
   ],
   "source": [
    "for i in range(2, 21, 2) : \n",
    "    print(i)"
   ]
  },
  {
   "cell_type": "markdown",
   "id": "4a48ceb6",
   "metadata": {},
   "source": [
    "Part 2: Dictionaries and Loops "
   ]
  },
  {
   "cell_type": "code",
   "execution_count": 21,
   "id": "fb6f9ac7",
   "metadata": {},
   "outputs": [
    {
     "name": "stdout",
     "output_type": "stream",
     "text": [
      "haley 's favorite color is green\n",
      "susan 's favorite color is red\n",
      "rich 's favorite color is blue\n",
      "rachel 's favorite color is pink\n",
      "amy 's favorite color is purple\n"
     ]
    }
   ],
   "source": [
    "studentcolors = {\"haley\": \"green\", \n",
    "                \"susan\": \"red\", \n",
    "                \"rich\": \"blue\", \n",
    "                \"rachel\": \"pink\", \n",
    "                \"amy\": \"purple\"}\n",
    "for color in studentcolors : \n",
    "    print (color, \"'s favorite color is\", studentcolors[color])"
   ]
  },
  {
   "cell_type": "code",
   "execution_count": 31,
   "id": "e86f9904",
   "metadata": {},
   "outputs": [
    {
     "name": "stdout",
     "output_type": "stream",
     "text": [
      "almond now has 12\n",
      "fish now has 16\n",
      "rice now has 8\n",
      "cheese now has 4\n"
     ]
    }
   ],
   "source": [
    "products = {\"almond\": 6,\n",
    "           \"fish\": 8, \n",
    "           \"rice\": 4, \n",
    "           \"cheese\": 2}\n",
    "for item in products : \n",
    "    print(item, \"now has\", products[item]*2)"
   ]
  },
  {
   "cell_type": "markdown",
   "id": "695713e5",
   "metadata": {},
   "source": [
    "Part 3: Storing results of a for loop in a new list and list comprehensions\n",
    "1. not using list comprehension"
   ]
  },
  {
   "cell_type": "code",
   "execution_count": 33,
   "id": "15173e10",
   "metadata": {},
   "outputs": [
    {
     "name": "stdout",
     "output_type": "stream",
     "text": [
      "numbers multiplied by two are: [4, 6, 8, 10]\n"
     ]
    }
   ],
   "source": [
    "numsxtwo = []\n",
    "nums = [2, 3, 4, 5]\n",
    "for i in nums : \n",
    "    numsxtwo.append(i*2)\n",
    "    \n",
    "print(\"numbers multiplied by two are:\", numsxtwo)"
   ]
  },
  {
   "cell_type": "code",
   "execution_count": 54,
   "id": "16fb4ff5",
   "metadata": {},
   "outputs": [
    {
     "name": "stdout",
     "output_type": "stream",
     "text": [
      "['s', 'b', 'm', 'p']\n"
     ]
    }
   ],
   "source": [
    "firstletters = []\n",
    "words = [\"sandal\", \"bottle\", \"moth\", \"pale\"]\n",
    "for word in words :\n",
    "    firstletters.append(word[0])\n",
    "print(firstletters)"
   ]
  },
  {
   "cell_type": "markdown",
   "id": "2ff95810",
   "metadata": {},
   "source": [
    "2. using list comprehension"
   ]
  },
  {
   "cell_type": "code",
   "execution_count": 39,
   "id": "c81fd48b",
   "metadata": {},
   "outputs": [
    {
     "name": "stdout",
     "output_type": "stream",
     "text": [
      "[1.0, 1.4142135623730951, 1.7320508075688772, 2.0, 2.23606797749979, 2.449489742783178, 2.6457513110645907, 2.8284271247461903, 3.0, 3.1622776601683795]\n"
     ]
    }
   ],
   "source": [
    "list=[1, 2, 3, 4, 5, 6, 7, 8, 9, 10]\n",
    "squareroots = [i**0.5 for i in list]\n",
    "print(squareroots)"
   ]
  },
  {
   "cell_type": "code",
   "execution_count": 56,
   "id": "54dbdf83",
   "metadata": {},
   "outputs": [
    {
     "name": "stdout",
     "output_type": "stream",
     "text": [
      "['n', 'n', 'h', 'k']\n"
     ]
    }
   ],
   "source": [
    "groceries = [\"lemon\", \"chicken\", \"toothbrush\", \"milk\"]\n",
    "lastletters = [i[-1] for i in groceries]\n",
    "print(lastletters)"
   ]
  },
  {
   "cell_type": "markdown",
   "id": "1ca380e2",
   "metadata": {},
   "source": [
    "Part 4: nested loops"
   ]
  },
  {
   "cell_type": "code",
   "execution_count": 49,
   "id": "59dfa1b3",
   "metadata": {},
   "outputs": [
    {
     "name": "stdout",
     "output_type": "stream",
     "text": [
      "[[[1, 2, 3, 4], [5, 6, 7, 8]], [[9, 10, 11, 12], [13, 14, 15, 16]], [[17, 18, 19, 20], [21, 22, 23, 42]]]\n"
     ]
    }
   ],
   "source": [
    "deep_list = [[[1, 2, 3, 4], [5, 6, 7, 8]],\n",
    "            [[9, 10, 11, 12], [13, 14, 15, 16]],\n",
    "            [[17, 18, 19, 20], [21, 22, 23, 42]]]\n",
    "print(deep_list)"
   ]
  },
  {
   "cell_type": "code",
   "execution_count": 71,
   "id": "094459ac",
   "metadata": {},
   "outputs": [
    {
     "name": "stdout",
     "output_type": "stream",
     "text": [
      "[1, 2, 3, 4, 5, 6, 7, 8, 9, 10, 11, 12, 13, 14, 15, 16, 17, 18, 19, 20, 21, 22, 23, 42]\n"
     ]
    }
   ],
   "source": [
    "flat_list=[]\n",
    "for i in range(3) :\n",
    "    for j in range(2) :\n",
    "        for k in range(4):\n",
    "            this_number = deep_list[i][j][k]\n",
    "            flat_list.append(this_number)\n",
    "print(flat_list)"
   ]
  },
  {
   "cell_type": "code",
   "execution_count": 74,
   "id": "54162bb1",
   "metadata": {},
   "outputs": [
    {
     "name": "stdout",
     "output_type": "stream",
     "text": [
      "['elba', 'saw', 'I', 'ere', 'I', 'was', 'able']\n"
     ]
    }
   ],
   "source": [
    "myStrLst = [\"able\", \"was\", \"I\", \"ere\", \"I\", \"saw\", \"elba\"]\n",
    "l = []\n",
    "for word in myStrLst :\n",
    "    newWord = \"\"\n",
    "    for i in range(len(word) - 1, -1, -1) : \n",
    "        newWord += word[i]\n",
    "    l.append(newWord)\n",
    "print(l)\n",
    "#I got some help on this one that I kind of understand but kind of don't. It also isn't completely right\n",
    "#so I'll come to office hours on Friday haha"
   ]
  }
 ],
 "metadata": {
  "kernelspec": {
   "display_name": "Python 3 (ipykernel)",
   "language": "python",
   "name": "python3"
  },
  "language_info": {
   "codemirror_mode": {
    "name": "ipython",
    "version": 3
   },
   "file_extension": ".py",
   "mimetype": "text/x-python",
   "name": "python",
   "nbconvert_exporter": "python",
   "pygments_lexer": "ipython3",
   "version": "3.11.4"
  }
 },
 "nbformat": 4,
 "nbformat_minor": 5
}
