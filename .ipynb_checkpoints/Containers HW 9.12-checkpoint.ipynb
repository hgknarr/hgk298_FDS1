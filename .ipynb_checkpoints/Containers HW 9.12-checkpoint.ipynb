{
 "cells": [
  {
   "cell_type": "markdown",
   "id": "d222bdf4",
   "metadata": {},
   "source": [
    "Problem 1: Indexing Strings"
   ]
  },
  {
   "cell_type": "code",
   "execution_count": 13,
   "id": "5a55d570",
   "metadata": {},
   "outputs": [
    {
     "name": "stdout",
     "output_type": "stream",
     "text": [
      "PYTHON\n",
      "P N\n",
      "H\n",
      "<class 'str'>\n"
     ]
    }
   ],
   "source": [
    "s = \"PYTHON\" \n",
    "print (s) \n",
    "print(s[0],\n",
    "      s[5]) \n",
    "a_char = s[3]\n",
    "print(a_char)\n",
    "print(type(a_char))"
   ]
  },
  {
   "cell_type": "markdown",
   "id": "7b2155d8",
   "metadata": {},
   "source": [
    "Problem 2: Indexing Tuples"
   ]
  },
  {
   "cell_type": "code",
   "execution_count": 10,
   "id": "b60df161",
   "metadata": {},
   "outputs": [
    {
     "name": "stdout",
     "output_type": "stream",
     "text": [
      "(10, 20, 30, 40, 50, 60)\n",
      "10 \n",
      " 30\n"
     ]
    },
    {
     "ename": "TypeError",
     "evalue": "'tuple' object does not support item assignment",
     "output_type": "error",
     "traceback": [
      "\u001b[1;31m---------------------------------------------------------------------------\u001b[0m",
      "\u001b[1;31mTypeError\u001b[0m                                 Traceback (most recent call last)",
      "Cell \u001b[1;32mIn[10], line 5\u001b[0m\n\u001b[0;32m      2\u001b[0m \u001b[38;5;28mprint\u001b[39m(t)\n\u001b[0;32m      3\u001b[0m \u001b[38;5;28mprint\u001b[39m(t[\u001b[38;5;241m0\u001b[39m],\u001b[38;5;124m\"\u001b[39m\u001b[38;5;130;01m\\n\u001b[39;00m\u001b[38;5;124m\"\u001b[39m,\n\u001b[0;32m      4\u001b[0m       t[\u001b[38;5;241m2\u001b[39m])\n\u001b[1;32m----> 5\u001b[0m t[\u001b[38;5;241m2\u001b[39m] \u001b[38;5;241m=\u001b[39m \u001b[38;5;241m30.4\u001b[39m\n",
      "\u001b[1;31mTypeError\u001b[0m: 'tuple' object does not support item assignment"
     ]
    }
   ],
   "source": [
    "t = (10, 20, 30, 40, 50, 60)\n",
    "print(t)\n",
    "print(t[0],\"\\n\",\n",
    "      t[2])\n",
    "t[2] = 30.4"
   ]
  },
  {
   "cell_type": "markdown",
   "id": "6ece6ce2",
   "metadata": {},
   "source": [
    "Problem 3: Indexing Lists and Lists of Lists"
   ]
  },
  {
   "cell_type": "code",
   "execution_count": 22,
   "id": "134dc08a",
   "metadata": {},
   "outputs": [
    {
     "name": "stdout",
     "output_type": "stream",
     "text": [
      "[5, 15, 25, [35, 45, [55, 65, 75], 85], 95]\n",
      "5 95\n",
      "[55, 65, 75]\n",
      "65\n"
     ]
    }
   ],
   "source": [
    "lst = [5, 15, 25, [35, 45, [55, 65, 75], 85], 95]\n",
    "print(lst)\n",
    "print(lst[0], \n",
    "      lst[4])\n",
    "print(lst[3][2])\n",
    "print(lst[3][2][1])"
   ]
  },
  {
   "cell_type": "markdown",
   "id": "654d062e",
   "metadata": {},
   "source": [
    "Problem 4: Lists of Lists as Arrays"
   ]
  },
  {
   "cell_type": "code",
   "execution_count": 29,
   "id": "9acd110c",
   "metadata": {},
   "outputs": [
    {
     "name": "stdout",
     "output_type": "stream",
     "text": [
      "[1, 2, 3] \n",
      " [4, 5, 6] \n",
      " [7, 8, 9]\n",
      "[4, 5, 6]\n",
      "3 6 9\n"
     ]
    }
   ],
   "source": [
    "matrix = [\n",
    "    [1, 2, 3],\n",
    "    [4, 5, 6], \n",
    "    [7, 8, 9]\n",
    "]\n",
    "print(matrix[0], \"\\n\", matrix[1], \"\\n\", matrix[2])\n",
    "print(matrix[1])\n",
    "print(matrix[0][2], \n",
    "     matrix[1][2], \n",
    "     matrix[2][2])"
   ]
  },
  {
   "cell_type": "code",
   "execution_count": 30,
   "id": "5ad96912",
   "metadata": {},
   "outputs": [
    {
     "name": "stdout",
     "output_type": "stream",
     "text": [
      "[1, 2, 3] \n",
      " [4, 0, 6] \n",
      " [7, 8, 9]\n"
     ]
    }
   ],
   "source": [
    "matrix[1][1] = 0\n",
    "print(matrix[0], \"\\n\", matrix[1], \"\\n\", matrix[2])"
   ]
  },
  {
   "cell_type": "markdown",
   "id": "ac4e4449",
   "metadata": {},
   "source": [
    "Problem 5: Using sets"
   ]
  },
  {
   "cell_type": "code",
   "execution_count": 37,
   "id": "389ef06d",
   "metadata": {},
   "outputs": [
    {
     "name": "stdout",
     "output_type": "stream",
     "text": [
      "{1, 2, 3, 4, 5, 6, 7, 8}\n",
      "{4, 5}\n",
      "{1, 2, 3}\n",
      "{1, 2, 3, 6, 7, 8}\n"
     ]
    }
   ],
   "source": [
    "A = [1, 2, 2, 3, 4, 4, 5]\n",
    "B = [4, 5, 5, 6, 7, 7, 8]\n",
    "setA = set(A)\n",
    "setB = set(B)\n",
    "print(setA | setB)\n",
    "print(setA & setB)\n",
    "print(setA - setB)\n",
    "print(setA^setB)"
   ]
  },
  {
   "cell_type": "markdown",
   "id": "dd397565",
   "metadata": {},
   "source": [
    "Problem 6: Working with directories"
   ]
  },
  {
   "cell_type": "code",
   "execution_count": 47,
   "id": "b339a2e2",
   "metadata": {},
   "outputs": [
    {
     "name": "stdout",
     "output_type": "stream",
     "text": [
      "{'apple': 50, 'banana': 25, 'orange': 30, 'grape': 45}\n",
      "50\n",
      "{'apple': 50, 'banana': 25, 'orange': 30, 'grape': 45, 'pear': 40}\n",
      "{'apple': 50, 'banana': 30, 'orange': 30, 'grape': 45, 'pear': 40}\n",
      "{'apple': 50, 'banana': 30, 'grape': 45, 'pear': 40}\n"
     ]
    }
   ],
   "source": [
    "stock = {\n",
    "    \"apple\" : 50, \n",
    "    \"banana\" : 25, \n",
    "    \"orange\" : 30, \n",
    "    \"grape\" : 45\n",
    "}\n",
    "print(stock)\n",
    "print(stock[\"apple\"])\n",
    "stock[\"pear\"] = 40\n",
    "print(stock)\n",
    "stock[\"banana\"] = 30\n",
    "print(stock)\n",
    "del stock[\"orange\"]\n",
    "print(stock)"
   ]
  }
 ],
 "metadata": {
  "kernelspec": {
   "display_name": "Python 3 (ipykernel)",
   "language": "python",
   "name": "python3"
  },
  "language_info": {
   "codemirror_mode": {
    "name": "ipython",
    "version": 3
   },
   "file_extension": ".py",
   "mimetype": "text/x-python",
   "name": "python",
   "nbconvert_exporter": "python",
   "pygments_lexer": "ipython3",
   "version": "3.11.4"
  }
 },
 "nbformat": 4,
 "nbformat_minor": 5
}
