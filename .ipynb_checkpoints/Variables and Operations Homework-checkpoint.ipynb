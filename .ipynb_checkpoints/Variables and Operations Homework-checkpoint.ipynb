{
 "cells": [
  {
   "cell_type": "markdown",
   "id": "a76f2e29",
   "metadata": {},
   "source": [
    "Problem 1"
   ]
  },
  {
   "cell_type": "code",
   "execution_count": 3,
   "id": "d38b6807",
   "metadata": {},
   "outputs": [
    {
     "name": "stdout",
     "output_type": "stream",
     "text": [
      "Haley\n",
      "20\n"
     ]
    }
   ],
   "source": [
    "name = \"Haley\"\n",
    "age = 20\n",
    "print (name)\n",
    "print (age)"
   ]
  },
  {
   "cell_type": "code",
   "execution_count": 4,
   "id": "bd573179",
   "metadata": {},
   "outputs": [
    {
     "name": "stdout",
     "output_type": "stream",
     "text": [
      "20\n",
      "Haley\n"
     ]
    }
   ],
   "source": [
    "name = 20 \n",
    "age = \"Haley\"\n",
    "print (name) \n",
    "print (age)"
   ]
  },
  {
   "cell_type": "markdown",
   "id": "f45dde80",
   "metadata": {},
   "source": [
    "Problem 2a"
   ]
  },
  {
   "cell_type": "code",
   "execution_count": 8,
   "id": "92a4e7cc",
   "metadata": {},
   "outputs": [
    {
     "name": "stdout",
     "output_type": "stream",
     "text": [
      "<class 'int'> <class 'float'> <class 'str'> <class 'list'> <class 'tuple'> <class 'set'> <class 'bool'>\n"
     ]
    }
   ],
   "source": [
    "print(type(5),\n",
    "type(5.0),\n",
    "type(\"5\"),\n",
    "type([5]),\n",
    "type((5,)),\n",
    "type({5}),\n",
    "type(True))"
   ]
  },
  {
   "cell_type": "markdown",
   "id": "7781d7bb",
   "metadata": {},
   "source": [
    "Problem 2b"
   ]
  },
  {
   "cell_type": "code",
   "execution_count": 9,
   "id": "0c29cb2f",
   "metadata": {},
   "outputs": [
    {
     "name": "stdout",
     "output_type": "stream",
     "text": [
      "True\n"
     ]
    }
   ],
   "source": [
    "is_student = True\n",
    "print(is_student)"
   ]
  },
  {
   "cell_type": "markdown",
   "id": "007c4d0b",
   "metadata": {},
   "source": [
    "Problem 3a"
   ]
  },
  {
   "cell_type": "code",
   "execution_count": 12,
   "id": "3763aab5",
   "metadata": {},
   "outputs": [
    {
     "name": "stdout",
     "output_type": "stream",
     "text": [
      "38 -16 56 25.0\n"
     ]
    }
   ],
   "source": [
    "print(15 + 23, \n",
    "      34-50, \n",
    "      8*7, \n",
    "      100/4)"
   ]
  },
  {
   "cell_type": "markdown",
   "id": "4ed1607d",
   "metadata": {},
   "source": [
    "Problem 3b"
   ]
  },
  {
   "cell_type": "code",
   "execution_count": 13,
   "id": "5129622d",
   "metadata": {},
   "outputs": [
    {
     "name": "stdout",
     "output_type": "stream",
     "text": [
      "0 100000\n"
     ]
    }
   ],
   "source": [
    "a = 10\n",
    "b = 5\n",
    "print(a % b,\n",
    "      a ** b)"
   ]
  },
  {
   "cell_type": "markdown",
   "id": "2b753421",
   "metadata": {},
   "source": [
    "Problem 4a"
   ]
  },
  {
   "cell_type": "code",
   "execution_count": 15,
   "id": "eadc0126",
   "metadata": {},
   "outputs": [
    {
     "name": "stdout",
     "output_type": "stream",
     "text": [
      "123\n",
      "<class 'int'>\n"
     ]
    }
   ],
   "source": [
    "c = \"123\"\n",
    "c = int(c)\n",
    "print(c)\n",
    "print(type(c))"
   ]
  },
  {
   "cell_type": "markdown",
   "id": "37777ca9",
   "metadata": {},
   "source": [
    "Problem 4b"
   ]
  },
  {
   "cell_type": "code",
   "execution_count": 16,
   "id": "75b2e71b",
   "metadata": {},
   "outputs": [
    {
     "name": "stdout",
     "output_type": "stream",
     "text": [
      "456\n",
      "<class 'str'>\n"
     ]
    }
   ],
   "source": [
    "d = 456 \n",
    "d = str(d)\n",
    "print(d)\n",
    "print(type(d))"
   ]
  },
  {
   "cell_type": "markdown",
   "id": "68448f54",
   "metadata": {},
   "source": [
    "Problem 4c"
   ]
  },
  {
   "cell_type": "code",
   "execution_count": 18,
   "id": "b745f985",
   "metadata": {},
   "outputs": [
    {
     "name": "stdout",
     "output_type": "stream",
     "text": [
      "78\n",
      "<class 'int'>\n"
     ]
    }
   ],
   "source": [
    "e = 78.9\n",
    "e = int(e)\n",
    "print(e)\n",
    "print(type(e))"
   ]
  },
  {
   "cell_type": "markdown",
   "id": "bcf9cf87",
   "metadata": {},
   "source": [
    "Problem 5a"
   ]
  },
  {
   "cell_type": "code",
   "execution_count": 19,
   "id": "d0345e7f",
   "metadata": {},
   "outputs": [
    {
     "name": "stdout",
     "output_type": "stream",
     "text": [
      "PythonRocks\n"
     ]
    }
   ],
   "source": [
    "f = \"Python\"\n",
    "g = \"Rocks\"\n",
    "print(f + g)"
   ]
  },
  {
   "cell_type": "markdown",
   "id": "ceabb62c",
   "metadata": {},
   "source": [
    "Problem 5b"
   ]
  },
  {
   "cell_type": "code",
   "execution_count": 21,
   "id": "87d1c18b",
   "metadata": {},
   "outputs": [
    {
     "name": "stdout",
     "output_type": "stream",
     "text": [
      "HelloHelloHello\n"
     ]
    }
   ],
   "source": [
    "h = \"Hello\"\n",
    "print(h * 3)"
   ]
  },
  {
   "cell_type": "markdown",
   "id": "f8a905f9",
   "metadata": {},
   "source": [
    "Problem 6"
   ]
  },
  {
   "cell_type": "code",
   "execution_count": 32,
   "id": "27ac7624",
   "metadata": {},
   "outputs": [],
   "source": [
    "x,y,z = 5,10,15"
   ]
  },
  {
   "cell_type": "code",
   "execution_count": 33,
   "id": "9d273104",
   "metadata": {},
   "outputs": [
    {
     "name": "stdout",
     "output_type": "stream",
     "text": [
      "10\n"
     ]
    }
   ],
   "source": [
    "x = x + x\n",
    "print(x)"
   ]
  },
  {
   "cell_type": "code",
   "execution_count": 34,
   "id": "2abab765",
   "metadata": {},
   "outputs": [
    {
     "name": "stdout",
     "output_type": "stream",
     "text": [
      "15.0\n"
     ]
    }
   ],
   "source": [
    "y = y + (y/2)\n",
    "print(y)"
   ]
  },
  {
   "cell_type": "code",
   "execution_count": 35,
   "id": "72875e6b",
   "metadata": {},
   "outputs": [
    {
     "name": "stdout",
     "output_type": "stream",
     "text": [
      "5.0\n"
     ]
    }
   ],
   "source": [
    "z = x/2\n",
    "print(z)"
   ]
  }
 ],
 "metadata": {
  "kernelspec": {
   "display_name": "Python 3 (ipykernel)",
   "language": "python",
   "name": "python3"
  },
  "language_info": {
   "codemirror_mode": {
    "name": "ipython",
    "version": 3
   },
   "file_extension": ".py",
   "mimetype": "text/x-python",
   "name": "python",
   "nbconvert_exporter": "python",
   "pygments_lexer": "ipython3",
   "version": "3.11.4"
  }
 },
 "nbformat": 4,
 "nbformat_minor": 5
}
