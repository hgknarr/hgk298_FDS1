{
 "cells": [
  {
   "cell_type": "markdown",
   "id": "b71af9f1",
   "metadata": {},
   "source": [
    "# This is a notebook for homework used to practice the class workflow\n",
    "\n",
    "You are asked to add your information below:\n",
    "\n",
    "Name: Haley\n",
    "\n",
    "Surname: Knarr\n",
    "\n",
    "EID:hgk298"
   ]
  },
  {
   "cell_type": "markdown",
   "id": "4a036b0e",
   "metadata": {},
   "source": [
    "| Artist Name | Song Title | Reason |\n",
    "| --- | --- | --- |\n",
    "| Yebba | All I Ever Wanted | She has a really unique voice and you can feel her emotions through the lyrics |\n",
    "| Beyonce | HEATED | It's hard to pick just one of her songs, I just really like this one's rhythm and how it sounds |\n",
    "| Billie Eilish | Happier Than Ever | It's like two different songs in one, I really like the melody in the beginning |\n",
    "| Cleo Sol | Don't Let Me Fall | Starts slow and builds, backing vocals towards the end sound so nice |\n",
    "| SZA | Broken Clocks | Gets stuck in my head alot, flows very well from one word/sentence to the next |"
   ]
  }
 ],
 "metadata": {
  "kernelspec": {
   "display_name": "Python 3 (ipykernel)",
   "language": "python",
   "name": "python3"
  },
  "language_info": {
   "codemirror_mode": {
    "name": "ipython",
    "version": 3
   },
   "file_extension": ".py",
   "mimetype": "text/x-python",
   "name": "python",
   "nbconvert_exporter": "python",
   "pygments_lexer": "ipython3",
   "version": "3.11.4"
  }
 },
 "nbformat": 4,
 "nbformat_minor": 5
}
