{
 "cells": [
  {
   "cell_type": "markdown",
   "id": "9459e698",
   "metadata": {},
   "source": [
    "PART A"
   ]
  },
  {
   "cell_type": "markdown",
   "id": "cf4a916e",
   "metadata": {},
   "source": [
    "1) Strings"
   ]
  },
  {
   "cell_type": "code",
   "execution_count": 26,
   "id": "f7be72b7",
   "metadata": {},
   "outputs": [
    {
     "name": "stdout",
     "output_type": "stream",
     "text": [
      "Program \n",
      " Fun \n",
      " Pgmnsn\n"
     ]
    }
   ],
   "source": [
    "s = \"ProgrammingIsFun\"\n",
    "print(s[0:7], \"\\n\", \n",
    "      s[-3:], \"\\n\", \n",
    "      s[::3])"
   ]
  },
  {
   "cell_type": "markdown",
   "id": "84a46cf0",
   "metadata": {},
   "source": [
    "2) Lists"
   ]
  },
  {
   "cell_type": "code",
   "execution_count": 44,
   "id": "b100cf84",
   "metadata": {},
   "outputs": [
    {
     "name": "stdout",
     "output_type": "stream",
     "text": [
      "[10, 20, 30] \n",
      " [70, 80] \n",
      " [40, 50, 60, 70] \n",
      " [10, 30, 50, 70] \n",
      " [70, 50, 30, 10]\n"
     ]
    }
   ],
   "source": [
    "lst = [10, 20, 30, 40, 50, 60, 70, 80]\n",
    "print(lst[0:3], \"\\n\",\n",
    "      lst[-2:], \"\\n\",\n",
    "      lst[3:7], \"\\n\",\n",
    "      lst[::2], \"\\n\", \n",
    "      lst[-2::-2])"
   ]
  },
  {
   "cell_type": "markdown",
   "id": "409de7e0",
   "metadata": {},
   "source": [
    "3. Tuples"
   ]
  },
  {
   "cell_type": "code",
   "execution_count": 25,
   "id": "7f8ec768",
   "metadata": {},
   "outputs": [
    {
     "name": "stdout",
     "output_type": "stream",
     "text": [
      "10 \n",
      " (30, 35, 40) \n",
      " (15, 20, 25)\n"
     ]
    }
   ],
   "source": [
    "tup = (5, 10, 15, 20, 25, 30, 35, 40)\n",
    "print(tup[1], \"\\n\",\n",
    "      tup[-3:], \"\\n\", \n",
    "      tup[2:5])"
   ]
  },
  {
   "cell_type": "markdown",
   "id": "9a8985a6",
   "metadata": {},
   "source": [
    "PART B"
   ]
  },
  {
   "cell_type": "markdown",
   "id": "a2b977a2",
   "metadata": {},
   "source": [
    "1. Strings"
   ]
  },
  {
   "cell_type": "code",
   "execution_count": 32,
   "id": "83e7d5bb",
   "metadata": {},
   "outputs": [
    {
     "name": "stdout",
     "output_type": "stream",
     "text": [
      "8 \n",
      " programmingisfun \n",
      " ProgrammingIsAmazing\n"
     ]
    }
   ],
   "source": [
    "print(s.index(\"ing\"), \"\\n\", \n",
    "     s.lower(), \"\\n\", \n",
    "     s.replace(\"Fun\", \"Amazing\"))"
   ]
  },
  {
   "cell_type": "markdown",
   "id": "6f8af6fa",
   "metadata": {},
   "source": [
    "2. Lists"
   ]
  },
  {
   "cell_type": "code",
   "execution_count": 60,
   "id": "a70e522f",
   "metadata": {},
   "outputs": [
    {
     "name": "stdout",
     "output_type": "stream",
     "text": [
      "[10, 20, 30, 40, 50, 60, 70, 80, 90, 100]\n"
     ]
    }
   ],
   "source": [
    "lst = [10, 20, 30, 40, 50, 60, 70, 80]\n",
    "new_lst = (90, 100)\n",
    "lst.extend(new_lst)\n",
    "print(lst)"
   ]
  },
  {
   "cell_type": "code",
   "execution_count": 61,
   "id": "4ac131f7",
   "metadata": {},
   "outputs": [
    {
     "name": "stdout",
     "output_type": "stream",
     "text": [
      "[10, 30, 40, 50, 60, 70, 80, 90, 100]\n"
     ]
    }
   ],
   "source": [
    "lst.remove(20)\n",
    "print(lst)"
   ]
  },
  {
   "cell_type": "code",
   "execution_count": 53,
   "id": "d443e2ef",
   "metadata": {},
   "outputs": [
    {
     "name": "stdout",
     "output_type": "stream",
     "text": [
      "[100, 90, 80, 70, 60, 50, 40, 30, 10]\n"
     ]
    }
   ],
   "source": [
    "lst.reverse()\n",
    "print(lst)"
   ]
  },
  {
   "cell_type": "code",
   "execution_count": 55,
   "id": "79d46f85",
   "metadata": {},
   "outputs": [
    {
     "data": {
      "text/plain": [
       "5"
      ]
     },
     "execution_count": 55,
     "metadata": {},
     "output_type": "execute_result"
    }
   ],
   "source": [
    "lst.index(50)"
   ]
  },
  {
   "cell_type": "markdown",
   "id": "4f0c1161",
   "metadata": {},
   "source": [
    "3. Tuples"
   ]
  },
  {
   "cell_type": "code",
   "execution_count": 62,
   "id": "9c5c580e",
   "metadata": {},
   "outputs": [
    {
     "name": "stdout",
     "output_type": "stream",
     "text": [
      "1\n"
     ]
    }
   ],
   "source": [
    "print(tup.count(20))"
   ]
  },
  {
   "cell_type": "code",
   "execution_count": 70,
   "id": "8940464e",
   "metadata": {},
   "outputs": [
    {
     "name": "stdout",
     "output_type": "stream",
     "text": [
      "[5, 10, 15, 20, 25, 30, 35, 40, 45]\n",
      "(5, 10, 15, 20, 25, 30, 35, 40, 45)\n"
     ]
    },
    {
     "data": {
      "text/plain": [
       "list"
      ]
     },
     "execution_count": 70,
     "metadata": {},
     "output_type": "execute_result"
    }
   ],
   "source": [
    "tup_list = list(tup)\n",
    "tup_list.append(45)\n",
    "print(tup_list)\n",
    "tup_tup = tuple(tup_list)\n",
    "print(tup_tup)"
   ]
  },
  {
   "cell_type": "markdown",
   "id": "7a5d48b2",
   "metadata": {},
   "source": [
    "4. Dictionaries"
   ]
  },
  {
   "cell_type": "code",
   "execution_count": 91,
   "id": "8b30734b",
   "metadata": {},
   "outputs": [
    {
     "name": "stdout",
     "output_type": "stream",
     "text": [
      "{'Scooby': 4, 'Shaggy': 19, 'Velma': 18, 'Daphne': 20, 'Phred': 21}\n",
      "18\n",
      "{'Shaggy': 19, 'Velma': 18, 'Daphne': 20, 'Phred': 21}\n"
     ]
    }
   ],
   "source": [
    "S_Doo_ = {\"Scooby\": 4, \"Shaggy\": 19, \"Velma\": 18, \"Daphne\": 20}\n",
    "S_Doo_ [\"Phred\"] = 21\n",
    "print(S_Doo_)\n",
    "print(S_Doo_['Velma'])\n",
    "del S_Doo_[\"Scooby\"]\n",
    "print(S_Doo_)"
   ]
  },
  {
   "cell_type": "code",
   "execution_count": 76,
   "id": "d7a12631",
   "metadata": {
    "scrolled": true
   },
   "outputs": [
    {
     "name": "stdout",
     "output_type": "stream",
     "text": [
      "dict_keys(['Scooby', 'Shaggy', 'Velma', 'Daphne'])\n",
      "dict_values([4, 19, 18, 20])\n"
     ]
    }
   ],
   "source": [
    "print(S_Doo_.keys())\n",
    "print(S_Doo_.values())"
   ]
  },
  {
   "cell_type": "code",
   "execution_count": 85,
   "id": "fe97c0a6",
   "metadata": {},
   "outputs": [
    {
     "name": "stdout",
     "output_type": "stream",
     "text": [
      "['Scooby', 'Shaggy', 'Velma', 'Daphne', 'Phred']\n"
     ]
    },
    {
     "data": {
      "text/plain": [
       "list"
      ]
     },
     "execution_count": 85,
     "metadata": {},
     "output_type": "execute_result"
    }
   ],
   "source": [
    "lst_names = list(S_Doo_.keys())\n",
    "print(lst_names)\n",
    "type(lst_names)"
   ]
  }
 ],
 "metadata": {
  "kernelspec": {
   "display_name": "Python 3 (ipykernel)",
   "language": "python",
   "name": "python3"
  },
  "language_info": {
   "codemirror_mode": {
    "name": "ipython",
    "version": 3
   },
   "file_extension": ".py",
   "mimetype": "text/x-python",
   "name": "python",
   "nbconvert_exporter": "python",
   "pygments_lexer": "ipython3",
   "version": "3.11.4"
  }
 },
 "nbformat": 4,
 "nbformat_minor": 5
}
