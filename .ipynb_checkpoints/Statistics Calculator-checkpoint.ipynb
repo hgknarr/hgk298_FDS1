{
 "cells": [
  {
   "cell_type": "code",
   "execution_count": 2,
   "id": "76317ba4-2ddb-47d7-8a82-5af5d6745a69",
   "metadata": {
    "tags": []
   },
   "outputs": [],
   "source": [
    "import hk_stats_module as sm"
   ]
  },
  {
   "cell_type": "code",
   "execution_count": null,
   "id": "d6be14e3-2740-48e6-9b44-e7fc3177a27d",
   "metadata": {
    "tags": []
   },
   "outputs": [
    {
     "name": "stdout",
     "output_type": "stream",
     "text": [
      "[1]enter a new series of numbers \n",
      " [2]compute the mean \n",
      " [3]compute the variance \n",
      " [4]compute the standard deviation \n",
      " [5]compute the standard error \n",
      " [6]compute the z-score of a new observation \n",
      " [7]give a summary of the statistics \n",
      "\n",
      "None\n"
     ]
    },
    {
     "name": "stdin",
     "output_type": "stream",
     "text": [
      "enter the number for which function you'd like to perform (start with 1): 1\n"
     ]
    },
    {
     "name": "stdout",
     "output_type": "stream",
     "text": [
      "[1]enter a new series of numbers \n",
      " [2]compute the mean \n",
      " [3]compute the variance \n",
      " [4]compute the standard deviation \n",
      " [5]compute the standard error \n",
      " [6]compute the z-score of a new observation \n",
      " [7]give a summary of the statistics \n",
      "\n",
      "None\n"
     ]
    },
    {
     "name": "stdin",
     "output_type": "stream",
     "text": [
      "enter the number for which function you'd like to perform (start with 1): 1\n",
      "enter a list of numbers and type done when finished: \n",
      " 5\n",
      "enter another number: \n",
      " \n"
     ]
    },
    {
     "name": "stdout",
     "output_type": "stream",
     "text": [
      "make sure what you enter is a number!\n"
     ]
    },
    {
     "name": "stdin",
     "output_type": "stream",
     "text": [
      "enter another number: \n",
      " 6\n",
      "enter another number: \n",
      " 7\n",
      "enter another number: \n",
      " 18\n",
      "enter another number: \n",
      " 23\n",
      "enter another number: \n",
      " done\n"
     ]
    },
    {
     "name": "stdout",
     "output_type": "stream",
     "text": [
      "[5, 6, 7, 18, 23]\n"
     ]
    },
    {
     "name": "stdin",
     "output_type": "stream",
     "text": [
      "would you like to continue? y\n"
     ]
    },
    {
     "name": "stdout",
     "output_type": "stream",
     "text": [
      "[1]enter a new series of numbers \n",
      " [2]compute the mean \n",
      " [3]compute the variance \n",
      " [4]compute the standard deviation \n",
      " [5]compute the standard error \n",
      " [6]compute the z-score of a new observation \n",
      " [7]give a summary of the statistics \n",
      "\n",
      "None\n"
     ]
    },
    {
     "name": "stdin",
     "output_type": "stream",
     "text": [
      "enter the number for which function you'd like to perform (start with 1): 3\n"
     ]
    },
    {
     "name": "stdout",
     "output_type": "stream",
     "text": [
      "53.36\n"
     ]
    },
    {
     "name": "stdin",
     "output_type": "stream",
     "text": [
      "would you like to continue? y\n"
     ]
    },
    {
     "name": "stdout",
     "output_type": "stream",
     "text": [
      "[1]enter a new series of numbers \n",
      " [2]compute the mean \n",
      " [3]compute the variance \n",
      " [4]compute the standard deviation \n",
      " [5]compute the standard error \n",
      " [6]compute the z-score of a new observation \n",
      " [7]give a summary of the statistics \n",
      "\n",
      "None\n"
     ]
    },
    {
     "name": "stdin",
     "output_type": "stream",
     "text": [
      "enter the number for which function you'd like to perform (start with 1): 7\n"
     ]
    },
    {
     "name": "stdout",
     "output_type": "stream",
     "text": [
      "mean =  11.8 \n",
      " variance =  53.36 \n",
      " standard deviation = 7.3 \n",
      " standard error = 3.26\n",
      "None\n"
     ]
    }
   ],
   "source": [
    "print(sm.options())\n",
    "\n",
    "choice = input(\"enter the number for which function you'd like to perform (start with 1):\")\n",
    "decision = True\n",
    "firstlist = []\n",
    "userlist = []\n",
    "    \n",
    "while (decision) :  \n",
    "    print(sm.options())\n",
    "    choice = input(\"enter the number for which function you'd like to perform (start with 1):\")\n",
    "    if int(choice) == 1 :\n",
    "        usernumbers = input(\"enter a list of numbers and type done when finished: \\n\")\n",
    "        while usernumbers != \"done\" :\n",
    "            if usernumbers.isnumeric() :\n",
    "                userlist.append(int(usernumbers))\n",
    "            else: \n",
    "                print(\"make sure what you enter is a number!\")\n",
    "            firstlist.append(usernumbers)\n",
    "            usernumbers = input(\"enter another number: \\n\")\n",
    "        print(userlist)\n",
    "    elif int(choice) == 2 : \n",
    "        print(sm.mean(userlist))\n",
    "    elif int(choice) == 3 :\n",
    "        print(sm.var(userlist))\n",
    "    elif int(choice) == 4 : \n",
    "        print(sm.sd(userlist))\n",
    "    elif int(choice) == 5 : \n",
    "        print(sm.se(userlist))\n",
    "    elif int(choice) == 6 :\n",
    "        print(sm.zscore(userlist))\n",
    "    elif int(choice) == 7 :\n",
    "        print(sm.summary(userlist))\n",
    "    elif choice == \"done\" : \n",
    "        break \n",
    "    else : \n",
    "        print(\"Please enter a number 1-7\")\n",
    "    cont = input(\"would you like to continue?\")\n",
    "    if cont == \"y\" : \n",
    "        decision == True \n",
    "    else : \n",
    "        print(\"thank you for using the calculator!\")\n",
    "        decision == False\n",
    "        break"
   ]
  },
  {
   "cell_type": "code",
   "execution_count": null,
   "id": "a9cae436-97cf-432b-b2e2-20dea0248445",
   "metadata": {},
   "outputs": [],
   "source": []
  }
 ],
 "metadata": {
  "kernelspec": {
   "display_name": "Python 3 (ipykernel)",
   "language": "python",
   "name": "python3"
  },
  "language_info": {
   "codemirror_mode": {
    "name": "ipython",
    "version": 3
   },
   "file_extension": ".py",
   "mimetype": "text/x-python",
   "name": "python",
   "nbconvert_exporter": "python",
   "pygments_lexer": "ipython3",
   "version": "3.11.4"
  }
 },
 "nbformat": 4,
 "nbformat_minor": 5
}
