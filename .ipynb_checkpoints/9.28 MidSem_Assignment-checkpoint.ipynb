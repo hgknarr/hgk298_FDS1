{
 "cells": [
  {
   "cell_type": "code",
   "execution_count": null,
   "id": "bf6868e1-5cb1-46be-84ae-8162df0ed358",
   "metadata": {
    "tags": []
   },
   "outputs": [],
   "source": [
    "print(\"[1]enter a new series of numbers\", \"\\n\", \n",
    "      \"[2]compute the mean\", \"\\n\")\n",
    ", [3]compute the variance\n",
    "[4]compute the standard deviation\n",
    "[5]compute the standard error\n",
    "[6]compute the z-score of a new observation\n",
    "[7]give a summary of the statistics\")"
   ]
  },
  {
   "cell_type": "code",
   "execution_count": null,
   "id": "e9359ca5-e0c4-458e-9215-6ec4a0807b97",
   "metadata": {
    "tags": []
   },
   "outputs": [],
   "source": [
    "meanlist = []\n",
    "usernumbers = int(input(\"input a list of numbers \\n\"))\n",
    "\n",
    "while usernumbers != \"done\" :\n",
    "    "
   ]
  },
  {
   "cell_type": "code",
   "execution_count": null,
   "id": "7fbc79d0-7e50-4bf8-86f6-5f96510c04f2",
   "metadata": {},
   "outputs": [],
   "source": []
  }
 ],
 "metadata": {
  "kernelspec": {
   "display_name": "Python 3 (ipykernel)",
   "language": "python",
   "name": "python3"
  },
  "language_info": {
   "codemirror_mode": {
    "name": "ipython",
    "version": 3
   },
   "file_extension": ".py",
   "mimetype": "text/x-python",
   "name": "python",
   "nbconvert_exporter": "python",
   "pygments_lexer": "ipython3",
   "version": "3.11.4"
  }
 },
 "nbformat": 4,
 "nbformat_minor": 5
}
