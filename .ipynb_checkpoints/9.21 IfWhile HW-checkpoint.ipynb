{
 "cells": [
  {
   "cell_type": "markdown",
   "id": "9442ef94",
   "metadata": {},
   "source": [
    "0) Logic "
   ]
  },
  {
   "cell_type": "code",
   "execution_count": 8,
   "id": "8066b3fb",
   "metadata": {
    "scrolled": true
   },
   "outputs": [
    {
     "data": {
      "text/plain": [
       "True"
      ]
     },
     "execution_count": 8,
     "metadata": {},
     "output_type": "execute_result"
    }
   ],
   "source": [
    "test_strs = [\"y\", \"o\"]\n",
    "comp_str = \"Hello World!\"\n",
    "test_strs[1] in comp_str"
   ]
  },
  {
   "cell_type": "code",
   "execution_count": 9,
   "id": "fbcc3336",
   "metadata": {},
   "outputs": [
    {
     "data": {
      "text/plain": [
       "False"
      ]
     },
     "execution_count": 9,
     "metadata": {},
     "output_type": "execute_result"
    }
   ],
   "source": [
    "test_strs = [\"y\", \"o\"]\n",
    "comp_str = \"Hello World!\"\n",
    "test_strs[0] in comp_str"
   ]
  },
  {
   "cell_type": "markdown",
   "id": "dffe0013",
   "metadata": {},
   "source": [
    "1) Age Category"
   ]
  },
  {
   "cell_type": "code",
   "execution_count": 5,
   "id": "f10e65c5",
   "metadata": {},
   "outputs": [
    {
     "name": "stdout",
     "output_type": "stream",
     "text": [
      "What is your age?70\n",
      "senior\n"
     ]
    }
   ],
   "source": [
    "age = int(input(\"What is your age?\"))\n",
    "\n",
    "if age >= 0 and age <= 2 : \n",
    "    print(\"infant\")\n",
    "elif age <= 12 : \n",
    "    print(\"child\") \n",
    "elif age <= 19 : \n",
    "    print (\"teenager\") \n",
    "elif age <= 64 : \n",
    "    print (\"adult\") \n",
    "else :\n",
    "    print (\"senior\") "
   ]
  },
  {
   "cell_type": "markdown",
   "id": "e02cfddd",
   "metadata": {},
   "source": [
    "2. Number classifier"
   ]
  },
  {
   "cell_type": "code",
   "execution_count": 12,
   "id": "af035947",
   "metadata": {},
   "outputs": [
    {
     "name": "stdout",
     "output_type": "stream",
     "text": [
      "type a number-3\n",
      "The number, -3 , is negative and odd\n"
     ]
    }
   ],
   "source": [
    "number = int(input(\"type a number\"))\n",
    "\n",
    "if number > 0 : \n",
    "    x = \"positive\"\n",
    "elif number < 0 :\n",
    "    x = \"negative\"\n",
    "else : \n",
    "    x = \"neither positive or negative\"\n",
    "\n",
    "if number % 2 == 0 : \n",
    "    y = \"even\"\n",
    "else : \n",
    "    y = \"odd\"\n",
    "    \n",
    "print (\"The number,\", number, \", is\", x, \"and\", y)"
   ]
  },
  {
   "cell_type": "markdown",
   "id": "6455ff53",
   "metadata": {},
   "source": [
    "3. Simple calculator"
   ]
  },
  {
   "cell_type": "code",
   "execution_count": 10,
   "id": "ce621fd3",
   "metadata": {},
   "outputs": [
    {
     "name": "stdout",
     "output_type": "stream",
     "text": [
      "type first number: 45\n",
      "type second number: 5\n",
      "type an operation (+, -, x, or /): +\n",
      "50\n"
     ]
    }
   ],
   "source": [
    "firstnumber = int(input(\"type first number: \"))\n",
    "secondnumber = int(input(\"type second number: \"))\n",
    "operation = input(\"type an operation (+, -, x, or /): \")\n",
    "\n",
    "if operation == \"+\" : \n",
    "    print(firstnumber + secondnumber)\n",
    "elif operation == \"-\" : \n",
    "    print(firstnumber - secondnumber)\n",
    "elif operation == \"x\" : \n",
    "    print(firstnumber * secondnumber)\n",
    "else : \n",
    "    print(firstnumber / secondnumber)"
   ]
  },
  {
   "cell_type": "markdown",
   "id": "d4f3ba58",
   "metadata": {},
   "source": [
    "4. Guessing Game"
   ]
  },
  {
   "cell_type": "code",
   "execution_count": 23,
   "id": "643fe298",
   "metadata": {
    "tags": []
   },
   "outputs": [
    {
     "name": "stdin",
     "output_type": "stream",
     "text": [
      "Guess a number between 1 and 10!\n",
      " 1\n"
     ]
    },
    {
     "name": "stdout",
     "output_type": "stream",
     "text": [
      "try again!\n",
      "your guess was too low\n"
     ]
    },
    {
     "name": "stdin",
     "output_type": "stream",
     "text": [
      "guess a number between 1 and 10!\n",
      " 3\n"
     ]
    },
    {
     "name": "stdout",
     "output_type": "stream",
     "text": [
      "try again!\n",
      "your guess was too high\n"
     ]
    },
    {
     "name": "stdin",
     "output_type": "stream",
     "text": [
      "guess a number between 1 and 10!\n",
      " 4\n"
     ]
    },
    {
     "name": "stdout",
     "output_type": "stream",
     "text": [
      "try again!\n",
      "your guess was too high\n"
     ]
    },
    {
     "name": "stdin",
     "output_type": "stream",
     "text": [
      "guess a number between 1 and 10!\n",
      " 5\n"
     ]
    },
    {
     "name": "stdout",
     "output_type": "stream",
     "text": [
      "try again!\n",
      "your guess was too high\n"
     ]
    },
    {
     "name": "stdin",
     "output_type": "stream",
     "text": [
      "guess a number between 1 and 10!\n",
      " 7\n"
     ]
    },
    {
     "name": "stdout",
     "output_type": "stream",
     "text": [
      "Game over \n",
      " The answer was: 2\n"
     ]
    }
   ],
   "source": [
    "import random \n",
    "\n",
    "guesses_allowed = 5 \n",
    "count=1\n",
    "ans = random.randint(1, 10)\n",
    "guess = int(input(\"Guess a number between 1 and 10!\\n\"))\n",
    "\n",
    "if guess == ans : \n",
    "    print (\"That's the answer!\")\n",
    "while count != guesses_allowed and guess != ans : \n",
    "    count = count + 1 \n",
    "    print (\"try again!\")\n",
    "    if guess < ans : \n",
    "        print(\"your guess was too low\")\n",
    "    elif guess > ans : \n",
    "        print(\"your guess was too high\")\n",
    "    guess = int(input(\"guess a number between 1 and 10!\\n\"))\n",
    "    if guess == ans : \n",
    "        print(\"That's the answer!\")\n",
    "    if count == guesses_allowed  and guess != ans :\n",
    "        print(\"Game over \\n The answer was:\", ans)"
   ]
  },
  {
   "cell_type": "markdown",
   "id": "abfd1342-6a47-4a08-982f-2f2b1ae0cfef",
   "metadata": {},
   "source": [
    "5. Counter Contrast"
   ]
  },
  {
   "cell_type": "code",
   "execution_count": 18,
   "id": "3283ad76-c39a-48d7-a53f-cf854b35a110",
   "metadata": {
    "tags": []
   },
   "outputs": [
    {
     "name": "stdin",
     "output_type": "stream",
     "text": [
      "type a number 5\n"
     ]
    },
    {
     "name": "stdout",
     "output_type": "stream",
     "text": [
      "1\n",
      "2\n",
      "3\n",
      "4\n",
      "5\n"
     ]
    }
   ],
   "source": [
    "n = int(input(\"type a number\")) \n",
    "\n",
    "for i in range (1, n + 1) : \n",
    "    print(i)"
   ]
  },
  {
   "cell_type": "code",
   "execution_count": 17,
   "id": "27c72833-4bd4-45ab-bbc1-f1ab5944638e",
   "metadata": {
    "tags": []
   },
   "outputs": [
    {
     "name": "stdin",
     "output_type": "stream",
     "text": [
      "type a number 5\n"
     ]
    },
    {
     "name": "stdout",
     "output_type": "stream",
     "text": [
      "1\n",
      "2\n",
      "3\n",
      "4\n",
      "5\n"
     ]
    }
   ],
   "source": [
    "n = int(input(\"type a number\")) \n",
    "count = 1\n",
    "\n",
    "while count <= n : \n",
    "    print(count)\n",
    "    count = count + 1\n",
    "#looping through the numbers until count equals n. the first iteration count\n",
    "#is 1 so we print that and then add 1 to count making it 2. next iteration \n",
    "#print count and add 1 to it making it 3. This goes until count equals n."
   ]
  },
  {
   "cell_type": "markdown",
   "id": "5d5a58cd-4a61-4625-8599-bf8023c080bb",
   "metadata": {},
   "source": [
    "In this context, I would prefer the for loop because it makes more sense to me-- it is a better and easier way to count"
   ]
  },
  {
   "cell_type": "markdown",
   "id": "fd6bc305-c8f9-46b3-97a5-70fa34f0a416",
   "metadata": {},
   "source": [
    "6. Multiplication Table"
   ]
  },
  {
   "cell_type": "code",
   "execution_count": 6,
   "id": "daf1052d-149a-42b9-9fb2-a95743bebafc",
   "metadata": {
    "tags": []
   },
   "outputs": [
    {
     "name": "stdin",
     "output_type": "stream",
     "text": [
      "Type a number:  7\n"
     ]
    },
    {
     "name": "stdout",
     "output_type": "stream",
     "text": [
      "7 x 0 =  0\n",
      "7 x 1 =  7\n",
      "7 x 2 =  14\n",
      "7 x 3 =  21\n",
      "7 x 4 =  28\n",
      "7 x 5 =  35\n",
      "7 x 6 =  42\n",
      "7 x 7 =  49\n",
      "7 x 8 =  56\n",
      "7 x 9 =  63\n",
      "7 x 10 =  70\n"
     ]
    }
   ],
   "source": [
    "n = int(input(\"Type a number: \"))\n",
    "\n",
    "for i in range (11) : \n",
    "        print(n, \"x\", i, \"= \", n*i) "
   ]
  },
  {
   "cell_type": "code",
   "execution_count": 7,
   "id": "20ddcb45-06d4-4158-9044-ba68582c48f4",
   "metadata": {
    "tags": []
   },
   "outputs": [
    {
     "name": "stdin",
     "output_type": "stream",
     "text": [
      "Type a number:  7\n"
     ]
    },
    {
     "name": "stdout",
     "output_type": "stream",
     "text": [
      "7 x 0 =  0\n",
      "7 x 1 =  7\n",
      "7 x 2 =  14\n",
      "7 x 3 =  21\n",
      "7 x 4 =  28\n",
      "7 x 5 =  35\n",
      "7 x 6 =  42\n",
      "7 x 7 =  49\n",
      "7 x 8 =  56\n",
      "7 x 9 =  63\n",
      "7 x 10 =  70\n"
     ]
    }
   ],
   "source": [
    "n = int(input(\"Type a number: \"))\n",
    "count = 0\n",
    "table_limit = 11\n",
    "\n",
    "while count != table_limit : \n",
    "    print (n, \"x\", count, \"= \", n*count)\n",
    "    count = count + 1"
   ]
  },
  {
   "cell_type": "markdown",
   "id": "150d7c5a-eef0-43b7-a465-18e754180e5f",
   "metadata": {},
   "source": [
    "In this context, I don't really mind either method of solving this problem. Both make a little more sense this time, and while the for loop was easier for me, I can find how the different elements translate to the while loop "
   ]
  },
  {
   "cell_type": "markdown",
   "id": "7e6fc33c-f64e-4361-951e-28fe015bd584",
   "metadata": {},
   "source": [
    "In order to write a program to ask a user to enter a positive number and prompt them until they do, I would use a while loop because it would make sense to me to say \"while the number is not positive, print a message that tells the user to enter a positive number instead\". I'm sure you could do it with both but I think this makes more sense to me. "
   ]
  }
 ],
 "metadata": {
  "kernelspec": {
   "display_name": "Python 3 (ipykernel)",
   "language": "python",
   "name": "python3"
  },
  "language_info": {
   "codemirror_mode": {
    "name": "ipython",
    "version": 3
   },
   "file_extension": ".py",
   "mimetype": "text/x-python",
   "name": "python",
   "nbconvert_exporter": "python",
   "pygments_lexer": "ipython3",
   "version": "3.11.4"
  }
 },
 "nbformat": 4,
 "nbformat_minor": 5
}
